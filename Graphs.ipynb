{
 "cells": [
  {
   "cell_type": "markdown",
   "id": "6f8ba033",
   "metadata": {
    "slideshow": {
     "slide_type": "slide"
    }
   },
   "source": [
    "# Графы"
   ]
  },
  {
   "cell_type": "markdown",
   "id": "e03de249",
   "metadata": {
    "slideshow": {
     "slide_type": "slide"
    }
   },
   "source": [
    "#### Поиск в ширину"
   ]
  },
  {
   "cell_type": "code",
   "execution_count": 2,
   "id": "a2ff64f8",
   "metadata": {
    "slideshow": {
     "slide_type": "fragment"
    }
   },
   "outputs": [],
   "source": [
    "# Предопределение графа graph как списка смежности\n",
    "from collections import deque\n",
    "\n",
    "\n",
    "def bfs(graph):\n",
    "    # граф должен быть связным\n",
    "    queue = deque()\n",
    "    queue.append(1)\n",
    "    visited = set()\n",
    "    dist_from_first = {i: float(\"inf\") for i in range(1, len(graph) + 1)}\n",
    "\n",
    "    while queue:\n",
    "        v = queue.popleft()\n",
    "        visited.add(v)\n",
    "        for u in graph[v]:\n",
    "            if u not in visited:\n",
    "                queue.append(u)\n",
    "                dist_from_first[u] = min(\n",
    "                    dist_from_first[v] + 1, dist_from_first[u])\n"
   ]
  },
  {
   "cell_type": "markdown",
   "id": "ad34de3e",
   "metadata": {
    "slideshow": {
     "slide_type": "slide"
    }
   },
   "source": [
    "#### Поиск в глубину"
   ]
  },
  {
   "cell_type": "code",
   "execution_count": 4,
   "id": "73644c0e",
   "metadata": {
    "slideshow": {
     "slide_type": "fragment"
    }
   },
   "outputs": [],
   "source": [
    "# Предопределение графа graph как списка смежности\n",
    "visited = [False] * len(graph)\n",
    "\n",
    "\n",
    "def dfs(v):\n",
    "    visited[v] = True\n",
    "    for u in graph[v]:\n",
    "        if not visited[u]:\n",
    "            dfs(u)\n"
   ]
  },
  {
   "cell_type": "markdown",
   "id": "317fbf55",
   "metadata": {
    "slideshow": {
     "slide_type": "slide"
    }
   },
   "source": [
    "#### Топологическая сортировка"
   ]
  },
  {
   "cell_type": "code",
   "execution_count": 6,
   "id": "b9fc7773",
   "metadata": {
    "slideshow": {
     "slide_type": "fragment"
    }
   },
   "outputs": [],
   "source": [
    "topsort_list = []\n",
    "\n",
    "\n",
    "def topsort(v):\n",
    "    visited[v] = True\n",
    "    for u in graph[v]:\n",
    "        if not visited[u]:\n",
    "            topsort(u)\n",
    "\n",
    "    topsort_list.append(v)\n",
    "\n",
    "\n",
    "topsort_list.reverse()"
   ]
  },
  {
   "cell_type": "markdown",
   "id": "2fdc4f61",
   "metadata": {
    "slideshow": {
     "slide_type": "slide"
    }
   },
   "source": [
    "#### Обход циклов в ориентированном графе (DFS)"
   ]
  },
  {
   "cell_type": "code",
   "execution_count": null,
   "id": "f96aaad7",
   "metadata": {
    "slideshow": {
     "slide_type": "fragment"
    }
   },
   "outputs": [],
   "source": [
    "# Предопределение графа graph как списка смежности\n",
    "n = len(graph)\n",
    "\n",
    "parent = [-1] * n\n",
    "color = [0] * n\n",
    "\n",
    "# Цвета: 0 - не обработана, 1 - в процессе обхода подграфа, 2 - подграф обойден\n",
    "\n",
    "\n",
    "def dfs(v, graph, parent, color):\n",
    "    color[v] = 1\n",
    "\n",
    "    for u in graph[v]:\n",
    "        if color[u] == 0:\n",
    "            parent[u] = v\n",
    "            result = dfs(u, graph, parent, color)\n",
    "            if result:\n",
    "                return result\n",
    "        elif color[u] == 1:\n",
    "            result = []\n",
    "            current = v\n",
    "\n",
    "            while current != u:\n",
    "                result.append(current)\n",
    "                current = parent[current]\n",
    "\n",
    "            result.append(u)\n",
    "            result = result[::-1]\n",
    "            result = [i + 1 for i in result]\n",
    "            \n",
    "            return result\n",
    "\n",
    "    color[v] = 2\n",
    "    return False\n",
    "\n",
    "for i in range(len(color)): # проходим по всем компонентам связности\n",
    "    if color[i] == 0:\n",
    "        a = dfs(i, graph, parent, color)\n",
    "        if a:\n",
    "            print(\"YES\")\n",
    "            print(*a)\n",
    "            break\n",
    "else:\n",
    "    print(\"NO\")\n"
   ]
  },
  {
   "cell_type": "markdown",
   "id": "2341253a",
   "metadata": {
    "slideshow": {
     "slide_type": "slide"
    }
   },
   "source": [
    "#### Обход циклов в неориентированном графе"
   ]
  },
  {
   "cell_type": "code",
   "execution_count": null,
   "id": "91e883ac",
   "metadata": {
    "slideshow": {
     "slide_type": "fragment"
    }
   },
   "outputs": [],
   "source": [
    "# Предопределение графа graph как списка смежности\n",
    "\n",
    "parent = [-1] * n\n",
    "color = [0] * n\n",
    "\n",
    "# Цвета: 0 - не обработана, 1 - в процессе обхода подграфа, 2 - подграф обойден\n",
    "\n",
    "\n",
    "def dfs(v, graph, parent, color, prev):\n",
    "    color[v] = 1\n",
    "\n",
    "    for u in graph[v]:\n",
    "        if prev == u:\n",
    "            continue\n",
    "        if color[u] == 0:\n",
    "            parent[u] = v\n",
    "            result = dfs(u, graph, parent, color, v)\n",
    "            if result:\n",
    "                return result\n",
    "        elif color[u] == 1:\n",
    "            result = []\n",
    "            current = v\n",
    "\n",
    "            while current != u:\n",
    "                result.append(current)\n",
    "                current = parent[current]\n",
    "\n",
    "            result.append(u)\n",
    "            result = result[::-1]\n",
    "            result = [i + 1 for i in result]\n",
    "            \n",
    "            return result\n",
    "\n",
    "    color[v] = 2\n",
    "    return False\n",
    "\n",
    "for i in range(len(color)): # проходим по всем компонентам связности\n",
    "    if color[i] == 0:\n",
    "        a = dfs(i, graph, parent, color, None)\n",
    "        if a:\n",
    "            print(\"YES\")\n",
    "            print(*a)\n",
    "            break\n",
    "else:\n",
    "    print(\"NO\")"
   ]
  },
  {
   "cell_type": "markdown",
   "id": "3fc4643e",
   "metadata": {
    "slideshow": {
     "slide_type": "slide"
    }
   },
   "source": [
    "#### Обход компонент связности"
   ]
  },
  {
   "cell_type": "code",
   "execution_count": null,
   "id": "2c2fff94",
   "metadata": {
    "slideshow": {
     "slide_type": "fragment"
    }
   },
   "outputs": [],
   "source": [
    "# Предопределение графа graph как списка смежности\n",
    "\n",
    "def dfs(v, graph, color, c):\n",
    "    color[v] = c\n",
    "    for u in graph[v]:\n",
    "        if color[u] == -1:\n",
    "            dfs(u, graph, color, c)\n",
    "\n",
    "\n",
    "color = [-1] * n\n",
    "c = 0\n",
    "for i in range(n):\n",
    "    if color[i] == -1:\n",
    "        dfs(i, graph, color, c)\n",
    "        c += 1\n",
    "\n",
    "# ответ лежит в c"
   ]
  },
  {
   "cell_type": "markdown",
   "id": "24640cfa",
   "metadata": {
    "slideshow": {
     "slide_type": "slide"
    }
   },
   "source": [
    "#### Проверка на двудольность"
   ]
  },
  {
   "cell_type": "code",
   "execution_count": 10,
   "id": "c4cdfdd8",
   "metadata": {
    "slideshow": {
     "slide_type": "fragment"
    }
   },
   "outputs": [],
   "source": [
    "# Предопределение графа graph как списка смежности\n",
    "\n",
    "def dfs(v, graph, color, c):\n",
    "    color[v] = c\n",
    "    for u in graph[v]:\n",
    "        if color[u] == -1:\n",
    "            if not dfs(u, graph, color, 1 - c):\n",
    "                return False\n",
    "        elif color[v] == color[u]:\n",
    "            return False\n",
    "    return True"
   ]
  }
 ],
 "metadata": {
  "celltoolbar": "Slideshow",
  "kernelspec": {
   "display_name": "Python 3 (ipykernel)",
   "language": "python",
   "name": "python3"
  },
  "language_info": {
   "codemirror_mode": {
    "name": "ipython",
    "version": 3
   },
   "file_extension": ".py",
   "mimetype": "text/x-python",
   "name": "python",
   "nbconvert_exporter": "python",
   "pygments_lexer": "ipython3",
   "version": "3.10.5"
  },
  "rise": {
   "enable_chalkboard": true,
   "scroll": true
  }
 },
 "nbformat": 4,
 "nbformat_minor": 5
}
