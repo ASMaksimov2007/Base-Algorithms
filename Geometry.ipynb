{
 "cells": [
  {
   "cell_type": "markdown",
   "id": "792d0ac9",
   "metadata": {
    "slideshow": {
     "slide_type": "slide"
    }
   },
   "source": [
    "## Геометрия"
   ]
  },
  {
   "cell_type": "markdown",
   "id": "fa7f988a",
   "metadata": {
    "slideshow": {
     "slide_type": "slide"
    }
   },
   "source": [
    "#### Точка"
   ]
  },
  {
   "cell_type": "code",
   "execution_count": 1,
   "id": "3660cad3",
   "metadata": {
    "slideshow": {
     "slide_type": "subslide"
    }
   },
   "outputs": [],
   "source": [
    "\n",
    "class Point:\n",
    "    def __init__(self, x, y):\n",
    "        self.x = x\n",
    "        self.y = y\n",
    "\n",
    "    def radius(self):\n",
    "        return (self.x ** 2 + self.y ** 2) ** 0.5\n",
    "\n",
    "    def angle(self, precision=9):\n",
    "        return round(math.degrees(math.acos(self.y / self.radius())), precision)\n",
    "\n",
    "    def __repr__(self):\n",
    "        return f\"Point({self.x}, {self.y})\"\n",
    "\n"
   ]
  },
  {
   "cell_type": "markdown",
   "id": "e09f65e4",
   "metadata": {
    "slideshow": {
     "slide_type": "slide"
    }
   },
   "source": [
    "#### Расстояние между двумя точками"
   ]
  },
  {
   "cell_type": "markdown",
   "id": "755a5630",
   "metadata": {
    "slideshow": {
     "slide_type": "subslide"
    }
   },
   "source": [
    "\\begin{equation}\n",
    "d = \\sqrt{(x_1 - x_2)^2 + (y_1 - y_2)^2}\n",
    "\\end{equation}"
   ]
  },
  {
   "cell_type": "code",
   "execution_count": 3,
   "id": "0075c927",
   "metadata": {
    "slideshow": {
     "slide_type": "fragment"
    }
   },
   "outputs": [],
   "source": [
    "def dist(a, b):\n",
    "    return ((a.x - b.x) ** 2 + (a.y - b.y) ** 2) ** 0.5"
   ]
  },
  {
   "cell_type": "markdown",
   "id": "4e687a08",
   "metadata": {
    "slideshow": {
     "slide_type": "slide"
    }
   },
   "source": [
    "#### Вектор"
   ]
  },
  {
   "cell_type": "code",
   "execution_count": null,
   "id": "48e6dbcb",
   "metadata": {
    "slideshow": {
     "slide_type": "subslide"
    }
   },
   "outputs": [],
   "source": [
    "\n",
    "class Vector:\n",
    "    def __init__(self, x, y):\n",
    "        self.x = x\n",
    "        self.y = y\n",
    "\n",
    "    def length(self):\n",
    "        return (self.x ** 2 + self.y ** 2) ** 0.5\n",
    "\n",
    "    def __repr__(self):\n",
    "        return f\"Vector({self.x}, {self.y})\"\n",
    "\n",
    "    def __add__(self, other):\n",
    "        return Vector(self.x + other.x, self.y + other.y)\n",
    "\n",
    "    def __mul__(self, k):\n",
    "        return Vector(self.x * k, self.y * k)\n",
    "\n",
    "    def __rmul__(self, other):\n",
    "        return Vector(self.x * k, self.y * k)\n",
    "\n",
    "    def normalize(self):\n",
    "        return Vector(x / self.length(), y / self.length())\n"
   ]
  },
  {
   "cell_type": "markdown",
   "id": "e04bd6ed",
   "metadata": {
    "slideshow": {
     "slide_type": "slide"
    }
   },
   "source": [
    "#### Получение вектора по точкам (концам отрезка)"
   ]
  },
  {
   "cell_type": "code",
   "execution_count": null,
   "id": "13991d38",
   "metadata": {
    "slideshow": {
     "slide_type": "subslide"
    }
   },
   "outputs": [],
   "source": [
    "def vector_by_points(point1, point2):\n",
    "    return Vector(point2.x - point1.x, point2.y - point1.y)\n"
   ]
  },
  {
   "cell_type": "markdown",
   "id": "f293ab8f",
   "metadata": {
    "slideshow": {
     "slide_type": "slide"
    }
   },
   "source": [
    "#### Прямая"
   ]
  },
  {
   "cell_type": "markdown",
   "id": "4d1830b9",
   "metadata": {
    "slideshow": {
     "slide_type": "subslide"
    }
   },
   "source": [
    "#### Нормальное уравнение прямой\n",
    "\n",
    "$$\n",
    "ax + by + c\n",
    "$$"
   ]
  },
  {
   "cell_type": "code",
   "execution_count": 4,
   "id": "707548b8",
   "metadata": {
    "slideshow": {
     "slide_type": "fragment"
    }
   },
   "outputs": [],
   "source": [
    "class Line:\n",
    "    def __init__(self, a, b, c):\n",
    "        self.a = a\n",
    "        self.b = b\n",
    "        self.c = c\n",
    "\n",
    "    def contains(self, point):\n",
    "        return self.a * point.x + self.b * point.y + self.c == 0\n",
    "\n",
    "    def get_equation_result(self, x, y):\n",
    "        return self.a * x + self.b * y + self.c\n",
    "\n",
    "    def sign(self, x, y):\n",
    "        if self.get_equation_result(self, x, y) > 0:\n",
    "            return 1\n",
    "        elif self.get_equation_result(self, x, y) < 0:\n",
    "            return -1\n",
    "        return 0"
   ]
  },
  {
   "cell_type": "markdown",
   "id": "9d132fe8",
   "metadata": {
    "slideshow": {
     "slide_type": "slide"
    }
   },
   "source": [
    "#### Получение прямой по двум точкам на ней"
   ]
  },
  {
   "cell_type": "markdown",
   "id": "5f3be7c8",
   "metadata": {
    "slideshow": {
     "slide_type": "subslide"
    }
   },
   "source": [
    "Решение уравнения\n",
    "\n",
    "$ax + by + c = 0$\n",
    "\n",
    "при известных $x$ и $y$"
   ]
  },
  {
   "cell_type": "code",
   "execution_count": null,
   "id": "301e4606",
   "metadata": {
    "slideshow": {
     "slide_type": "fragment"
    }
   },
   "outputs": [],
   "source": [
    "def points_to_normal_line(point1, point2):\n",
    "    a = point2.y - point1.y\n",
    "    b = point1.x - point2.x\n",
    "    c = -a * point1.x - b * point1.y\n",
    "    return Line(a, b, c)\n"
   ]
  },
  {
   "cell_type": "markdown",
   "id": "5cc90763",
   "metadata": {
    "slideshow": {
     "slide_type": "slide"
    }
   },
   "source": [
    "#### Формула Герона\n",
    "\n",
    "\\begin{equation}\n",
    "S = \\sqrt{p(p - a)(p - b)(p - c)}\n",
    "\\end{equation}"
   ]
  }
 ],
 "metadata": {
  "celltoolbar": "Slideshow",
  "kernelspec": {
   "display_name": "Python 3 (ipykernel)",
   "language": "python",
   "name": "python3"
  },
  "language_info": {
   "codemirror_mode": {
    "name": "ipython",
    "version": 3
   },
   "file_extension": ".py",
   "mimetype": "text/x-python",
   "name": "python",
   "nbconvert_exporter": "python",
   "pygments_lexer": "ipython3",
   "version": "3.10.0"
  },
  "rise": {
   "scroll": true
  }
 },
 "nbformat": 4,
 "nbformat_minor": 5
}
