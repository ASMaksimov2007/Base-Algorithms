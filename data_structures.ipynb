{
 "cells": [
  {
   "cell_type": "markdown",
   "id": "38ea8aa2",
   "metadata": {
    "slideshow": {
     "slide_type": "slide"
    }
   },
   "source": [
    "# Структуры данных"
   ]
  },
  {
   "cell_type": "markdown",
   "id": "45e0d97d",
   "metadata": {
    "slideshow": {
     "slide_type": "slide"
    }
   },
   "source": [
    "#### Функции хеширования"
   ]
  },
  {
   "cell_type": "code",
   "execution_count": null,
   "id": "52ceb02a",
   "metadata": {
    "slideshow": {
     "slide_type": "fragment"
    }
   },
   "outputs": [],
   "source": [
    "def letter2num(letter):\n",
    "    return ord(letter) - ord(\"a\")\n",
    "\n",
    "\n",
    "def string_hash(string):\n",
    "    modulo = 10 ** 6\n",
    "    hash_sum = letter2num(string[0]) % modulo\n",
    "    p = 29\n",
    "    for i in range(1, len(string)):\n",
    "        hash_sum += letter2num(string[i]) * p\n",
    "        hash_sum %= modulo\n",
    "    return hash_sum\n"
   ]
  },
  {
   "cell_type": "markdown",
   "id": "f3dd06ec",
   "metadata": {
    "slideshow": {
     "slide_type": "slide"
    }
   },
   "source": [
    "#### Хеш-таблица"
   ]
  },
  {
   "cell_type": "code",
   "execution_count": null,
   "id": "d1627130",
   "metadata": {
    "slideshow": {
     "slide_type": "fragment"
    }
   },
   "outputs": [],
   "source": [
    "class HashTable:\n",
    "    def __init__(self, size=10 ** 5):\n",
    "        self.data = [list() for _ in range(size)]\n",
    "        self.modulo = size\n",
    "\n",
    "    def add(self, element):\n",
    "        self.data[element % self.modulo].append(element)\n",
    "\n",
    "    def contains(self, element):\n",
    "        return element in self.data[element % self.modulo]\n",
    "\n",
    "    def remove(self, element):\n",
    "        if self.contains(element):\n",
    "            element_hash = element % self.modulo\n",
    "            self.data[element_hash].remove(element)\n",
    "            return True\n",
    "        else:\n",
    "            return False\n"
   ]
  },
  {
   "cell_type": "markdown",
   "id": "f41b456a",
   "metadata": {
    "slideshow": {
     "slide_type": "slide"
    }
   },
   "source": [
    "#### Множество"
   ]
  },
  {
   "cell_type": "code",
   "execution_count": null,
   "id": "dc2a4259",
   "metadata": {
    "slideshow": {
     "slide_type": "fragment"
    }
   },
   "outputs": [],
   "source": [
    "class Set:\n",
    "    def __init__(self, size=10 ** 5):\n",
    "        self.data = [list() for _ in range(size)]\n",
    "        self.modulo = size\n",
    "\n",
    "    def add(self, element):\n",
    "        if not self.contains(element):\n",
    "            self.data[element % self.modulo].append(element)\n",
    "\n",
    "    def contains(self, element):\n",
    "        return element in self.data[element % self.modulo]\n",
    "\n",
    "    def remove(self, element):\n",
    "        element_hash = element % self.modulo\n",
    "        self.data[element_hash].remove(element)\n"
   ]
  },
  {
   "cell_type": "markdown",
   "id": "600f7915",
   "metadata": {
    "slideshow": {
     "slide_type": "slide"
    }
   },
   "source": [
    "#### Словарь"
   ]
  },
  {
   "cell_type": "code",
   "execution_count": 2,
   "id": "f71112d5",
   "metadata": {
    "slideshow": {
     "slide_type": "fragment"
    }
   },
   "outputs": [],
   "source": [
    "class Map:\n",
    "    def __init__(self, size=10 ** 4):\n",
    "        self.data = [list() for _ in range(size)]\n",
    "        self.modulo = size\n",
    "\n",
    "    def update(self, key, value):\n",
    "        key_string = key\n",
    "        key = string_hash(key)\n",
    "        if not self.contains(key_string):\n",
    "            self.data[key % self.modulo].append((key_string, value))\n",
    "        else:\n",
    "            for index, i in enumerate(self.data[key % self.modulo]):\n",
    "                if i[0] == key_string:\n",
    "                    self.data[key % self.modulo][index] = (key_string, value)\n",
    "\n",
    "    def append(self, key, value):\n",
    "        key_string = key\n",
    "        key = string_hash(key)\n",
    "        if not self.contains(key_string):\n",
    "            self.data[key % self.modulo].append((key_string, value))\n",
    "        else:\n",
    "            for index, i in enumerate(self.data[key % self.modulo]):\n",
    "                if i[0] == key_string:\n",
    "                    self.data[key % self.modulo][index][1].append(value)\n",
    "\n",
    "    def get(self, key):\n",
    "        key_string = key\n",
    "        key = string_hash(key)\n",
    "        if self.contains(key_string):\n",
    "            for index, i in enumerate(self.data[key % self.modulo]):\n",
    "                if i[0] == key_string:\n",
    "                    return self.data[key % self.modulo][index][1]\n",
    "        return None\n",
    "\n",
    "    def contains(self, key):\n",
    "        key_string = key\n",
    "        key = string_hash(key)\n",
    "        for i in self.data[key % self.modulo]:\n",
    "            if i[0] == key_string:\n",
    "                return True\n",
    "        return False\n",
    "\n",
    "    def remove(self, key):\n",
    "        key_string = key\n",
    "        key = string_hash(key)\n",
    "        if self.contains(key_string):\n",
    "            for index, i in enumerate(self.data[key % self.modulo]):\n",
    "                if i[0] == key_string:\n",
    "                    self.data[key % self.modulo].pop(index)\n",
    "                    break\n",
    "\n",
    "    def get_list(self):\n",
    "        result = []\n",
    "        for cell in self.data:\n",
    "            for pair in cell:\n",
    "                result.append(pair)\n",
    "        return result\n"
   ]
  }
 ],
 "metadata": {
  "celltoolbar": "Slideshow",
  "kernelspec": {
   "display_name": "Python 3 (ipykernel)",
   "language": "python",
   "name": "python3"
  },
  "language_info": {
   "codemirror_mode": {
    "name": "ipython",
    "version": 3
   },
   "file_extension": ".py",
   "mimetype": "text/x-python",
   "name": "python",
   "nbconvert_exporter": "python",
   "pygments_lexer": "ipython3",
   "version": "3.10.5"
  },
  "rise": {
   "enable_chalkboard": true,
   "scroll": true
  }
 },
 "nbformat": 4,
 "nbformat_minor": 5
}
