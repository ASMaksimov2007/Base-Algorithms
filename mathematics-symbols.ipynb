{
 "cells": [
  {
   "cell_type": "markdown",
   "id": "49454bf5",
   "metadata": {
    "slideshow": {
     "slide_type": "slide"
    }
   },
   "source": [
    "# Математические обозначения. Формулы"
   ]
  },
  {
   "cell_type": "markdown",
   "id": "478182cb",
   "metadata": {
    "slideshow": {
     "slide_type": "slide"
    }
   },
   "source": [
    "#### Сумма ($\\sum$, читается \"сигма\")\n",
    "\n",
    "$$\n",
    "\\sum_{i = 1}^{n}{a_i}\n",
    "$$"
   ]
  },
  {
   "cell_type": "code",
   "execution_count": 11,
   "id": "7c275f07",
   "metadata": {
    "slideshow": {
     "slide_type": "subslide"
    }
   },
   "outputs": [
    {
     "name": "stdout",
     "output_type": "stream",
     "text": [
      "45\n"
     ]
    }
   ],
   "source": [
    "a = [1, 2, 3, 4, 5, 6, 7, 8, 9]\n",
    "n = len(a)\n",
    "s = 0\n",
    "\n",
    "for i in range(0, n):\n",
    "    s += a[i]\n",
    "    \n",
    "print(s)\n",
    "    "
   ]
  },
  {
   "cell_type": "markdown",
   "id": "660c3415",
   "metadata": {
    "slideshow": {
     "slide_type": "slide"
    }
   },
   "source": [
    "#### Произведение ($\\prod$, читается \"произведение\")\n",
    "\n",
    "$$\n",
    "\\prod_{i = 1}^{n}{a_i}\n",
    "$$"
   ]
  },
  {
   "cell_type": "code",
   "execution_count": 13,
   "id": "cf71f1aa",
   "metadata": {
    "slideshow": {
     "slide_type": "subslide"
    }
   },
   "outputs": [
    {
     "name": "stdout",
     "output_type": "stream",
     "text": [
      "20160\n"
     ]
    }
   ],
   "source": [
    "a = [1, 2, 3, 4, 5, 6, 7, 8, 3 ]\n",
    "n = len(a)\n",
    "s = 1\n",
    "\n",
    "for i in range(3, n):\n",
    "    s *= a[i]\n",
    "    \n",
    "print(s)"
   ]
  },
  {
   "cell_type": "markdown",
   "id": "1aa35dea",
   "metadata": {
    "slideshow": {
     "slide_type": "slide"
    }
   },
   "source": [
    "# Округление вверх и вниз\n",
    "\n",
    "### Вверх\n",
    "\\begin{equation}\n",
    "\\lceil x \\rceil\n",
    "\\end{equation}\n",
    "\n",
    "\n",
    "### Вниз\n",
    "\\begin{equation}\n",
    "\\lfloor x \\rfloor\n",
    "\\end{equation}"
   ]
  },
  {
   "cell_type": "markdown",
   "id": "95b0a1bc",
   "metadata": {},
   "source": [
    "\\begin{equation}\n",
    "\\forall x \\exists y: x = y + 1\n",
    "\\end{equation}"
   ]
  }
 ],
 "metadata": {
  "celltoolbar": "Slideshow",
  "kernelspec": {
   "display_name": "Python 3 (ipykernel)",
   "language": "python",
   "name": "python3"
  },
  "language_info": {
   "codemirror_mode": {
    "name": "ipython",
    "version": 3
   },
   "file_extension": ".py",
   "mimetype": "text/x-python",
   "name": "python",
   "nbconvert_exporter": "python",
   "pygments_lexer": "ipython3",
   "version": "3.10.0"
  },
  "rise": {
   "scroll": true
  }
 },
 "nbformat": 4,
 "nbformat_minor": 5
}
