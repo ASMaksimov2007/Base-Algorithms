{
 "cells": [
  {
   "cell_type": "markdown",
   "id": "f51b2dea",
   "metadata": {
    "slideshow": {
     "slide_type": "slide"
    }
   },
   "source": [
    "## Динамическое программирование"
   ]
  },
  {
   "cell_type": "markdown",
   "id": "f0516a24",
   "metadata": {
    "slideshow": {
     "slide_type": "slide"
    }
   },
   "source": [
    "#### Задача о банкомате"
   ]
  },
  {
   "cell_type": "code",
   "execution_count": 1,
   "id": "62754766",
   "metadata": {
    "slideshow": {
     "slide_type": "subslide"
    }
   },
   "outputs": [],
   "source": [
    "def bank(total, values):\n",
    "    children = [0] * (total + 1)\n",
    "    dp = [float(\"inf\")] * (total + 1)\n",
    "    dp[0] = 0\n",
    "    for value in values:\n",
    "        if value <= total:\n",
    "            dp[value] = 1\n",
    "\n",
    "    for i in range(1, total + 1):\n",
    "        best_parent = 0\n",
    "        best_sum = float(\"inf\")\n",
    "        for j in values:\n",
    "            if 0 <= i - j < total + 1 and dp[i - j] < best_sum:\n",
    "                best_sum = dp[i - j]\n",
    "                best_parent = i - j\n",
    "        dp[i] = best_sum + 1\n",
    "        children[i] = best_parent\n",
    "\n",
    "    result = []\n",
    "\n",
    "    if dp[total] == float(\"inf\"):\n",
    "        return False\n",
    "\n",
    "    # Восстановление ответа\n",
    "    x = total\n",
    "    while x != 0:\n",
    "        result.append(x - children[x])\n",
    "        x = children[x]\n",
    "    return result\n",
    "\n"
   ]
  },
  {
   "cell_type": "markdown",
   "id": "26aa710f",
   "metadata": {
    "slideshow": {
     "slide_type": "slide"
    }
   },
   "source": [
    "#### Задача о рюкзаке"
   ]
  },
  {
   "cell_type": "code",
   "execution_count": null,
   "id": "8a74f110",
   "metadata": {
    "slideshow": {
     "slide_type": "subslide"
    }
   },
   "outputs": [],
   "source": [
    "def backpack(max_weight, weights, costs):\n",
    "    if len(weights) != len(costs):\n",
    "        raise ValueError(\"weights and costs length must be equal\")\n",
    "\n",
    "    dp = [[0] * (max_weight + 1) for i in range(len(weights) + 1)]\n",
    "    for i in range(1, len(weights) + 1):\n",
    "        for j in range(1, max_weight + 1):\n",
    "            dp[i][j] = dp[i - 1][j]\n",
    "            if weights[i - 1] <= j:\n",
    "                dp[i][j] = max(dp[i][j], dp[i - 1]\n",
    "                               [j - weights[i - 1]] + costs[i - 1])\n",
    "\n",
    "    # Восстановление ответа\n",
    "    result = []\n",
    "\n",
    "    i = len(weights)\n",
    "    j = max_weight\n",
    "\n",
    "    while dp[i][j] > 0 and i > 0:\n",
    "        if dp[i][j] == dp[i - 1][j]:\n",
    "            i -= 1\n",
    "        else:\n",
    "            i -= 1\n",
    "            j -= weights[i]\n",
    "            result.append((i + 1, weights[i], costs[i]))\n",
    "\n",
    "    return result[::-1]\n"
   ]
  },
  {
   "cell_type": "markdown",
   "id": "0557ff4b",
   "metadata": {
    "slideshow": {
     "slide_type": "slide"
    }
   },
   "source": [
    "#### Наибольшая общая подпоследовательность"
   ]
  },
  {
   "cell_type": "code",
   "execution_count": null,
   "id": "95adb258",
   "metadata": {
    "slideshow": {
     "slide_type": "subslide"
    }
   },
   "outputs": [],
   "source": [
    "def lcs(a, b):\n",
    "    dp = [[0] * (len(b) + 1) for i in range(len(a) + 1)]\n",
    "\n",
    "    for i in range(1, len(a) + 1):\n",
    "        for j in range(1, len(b) + 1):\n",
    "            if a[i - 1] == b[j - 1]:\n",
    "                dp[i][j] = dp[i - 1][j - 1] + 1\n",
    "            else:\n",
    "                dp[i][j] = max(dp[i][j - 1], dp[i - 1][j])\n",
    "\n",
    "    row = len(a)\n",
    "    column = len(b)\n",
    "\n",
    "    result = []\n",
    "    while column != 0 and row != 0:\n",
    "        if a[row - 1] == b[column - 1]:\n",
    "            result.append(b[column - 1])\n",
    "            column -= 1\n",
    "            row -= 1\n",
    "        elif dp[row][column] == dp[row - 1][column]:\n",
    "            row -= 1\n",
    "        else:\n",
    "            column -= 1\n",
    "\n",
    "    return result[::-1]\n"
   ]
  },
  {
   "cell_type": "markdown",
   "id": "faac50dd",
   "metadata": {
    "slideshow": {
     "slide_type": "slide"
    }
   },
   "source": [
    "#### Наибольшая общая подстрока"
   ]
  },
  {
   "cell_type": "code",
   "execution_count": null,
   "id": "ccb5321e",
   "metadata": {
    "slideshow": {
     "slide_type": "subslide"
    }
   },
   "outputs": [],
   "source": [
    "def lcstring(a, b):\n",
    "    dp = [[0] * (len(b) + 1) for i in range(len(a) + 1)]\n",
    "    \n",
    "    maximum_x = 0\n",
    "    maximum_y = 0\n",
    "    maximum_len = 0\n",
    "    \n",
    "    for i in range(1, len(a) + 1):\n",
    "        for j in range(1, len(b) + 1):\n",
    "            if a[i - 1] == b[j - 1]:\n",
    "                dp[i][j] = dp[i - 1][j - 1] + 1\n",
    "                if dp[i][j] >= maximum_len:\n",
    "                    maximum_x = i - 1\n",
    "                    maximum_y = j - 1\n",
    "                    maximum_len = dp[i][j]\n",
    "\n",
    "    return a[maximum_x - maximum_len + 1:maximum_x + 1]\n"
   ]
  },
  {
   "cell_type": "markdown",
   "id": "947c869e",
   "metadata": {
    "slideshow": {
     "slide_type": "slide"
    }
   },
   "source": [
    "#### Наибольшая возрастающая подпоследовательность за $O(N^2)$"
   ]
  },
  {
   "cell_type": "code",
   "execution_count": 5,
   "id": "070e295b",
   "metadata": {
    "slideshow": {
     "slide_type": "subslide"
    }
   },
   "outputs": [],
   "source": [
    "def lis_slow(array):\n",
    "    dp = [1] * len(array)\n",
    "\n",
    "    for i in range(len(array)):\n",
    "        for j in range(i):\n",
    "            if array[i] > array[j]:\n",
    "                dp[i] = max(dp[i], dp[j] + 1)\n",
    "\n",
    "    lis_len = max(dp)\n",
    "    prev = None\n",
    "    pointer = dp.index(lis_len)\n",
    "\n",
    "    result = [array[pointer]]\n",
    "    while pointer != 0:\n",
    "        for i in range(pointer - 1, -1, -1):\n",
    "            if dp[i] + 1 == dp[pointer]:\n",
    "                result.append(array[i])\n",
    "                pointer = i\n",
    "                break\n",
    "\n",
    "    return result[::-1]\n"
   ]
  },
  {
   "cell_type": "markdown",
   "id": "53caaf93",
   "metadata": {
    "slideshow": {
     "slide_type": "slide"
    }
   },
   "source": [
    "#### Наибольшая возрастающая подпоследовательность за $O(N \\log N)$"
   ]
  },
  {
   "cell_type": "code",
   "execution_count": null,
   "id": "93815867",
   "metadata": {
    "slideshow": {
     "slide_type": "subslide"
    }
   },
   "outputs": [],
   "source": [
    "import bisect\n",
    "\n",
    "def lis_fast(array):\n",
    "    n = len(array)\n",
    "    dp = [float(\"inf\")] * n\n",
    "    pos = [0] * n\n",
    "    prev = [0] * n\n",
    "    most_right = 0\n",
    "    pos[0] = -1\n",
    "    dp[0] = -float(\"inf\")\n",
    "    for i in range(n):\n",
    "        j = bisect.bisect_left(dp, array[i])\n",
    "        if j >= len(dp):\n",
    "            j = len(dp) - 1\n",
    "        if j == 0:\n",
    "            j = 1\n",
    "        if dp[j - 1] < array[i] < dp[j]:\n",
    "            dp[j] = array[i]\n",
    "            pos[j] = i\n",
    "            prev[i] = pos[j - 1]\n",
    "            most_right = max(most_right, j)\n",
    "\n",
    "    answer = list()\n",
    "    p = pos[most_right]\n",
    "    while p != -1:\n",
    "        answer.append(array[p])\n",
    "        p = prev[p]\n",
    "\n",
    "    return answer[::-1]\n"
   ]
  },
  {
   "cell_type": "markdown",
   "id": "55c3da3d",
   "metadata": {
    "slideshow": {
     "slide_type": "slide"
    }
   },
   "source": [
    "#### Платная лестница"
   ]
  },
  {
   "cell_type": "code",
   "execution_count": 1,
   "id": "1dc64b86",
   "metadata": {
    "slideshow": {
     "slide_type": "subslide"
    }
   },
   "outputs": [],
   "source": [
    "def staircase(costs, jump_range):\n",
    "    dp = [float(\"inf\")] * len(costs)\n",
    "    dp[0] = costs[0]\n",
    "    \n",
    "    for i in range(1, len(costs)):\n",
    "        for j in range(1, jump_range + 1):\n",
    "            if i - j >= 0:\n",
    "                dp[i] = min(dp[i - j], dp[i] - costs[i]) + costs[i]\n",
    "\n",
    "    return dp[-1]\n"
   ]
  },
  {
   "cell_type": "markdown",
   "id": "bd56e354",
   "metadata": {
    "slideshow": {
     "slide_type": "slide"
    }
   },
   "source": [
    "#### Белка на кочках (обратная платная лестница)"
   ]
  },
  {
   "cell_type": "code",
   "execution_count": null,
   "id": "9b829e1e",
   "metadata": {
    "slideshow": {
     "slide_type": "subslide"
    }
   },
   "outputs": [],
   "source": [
    "def squirrel(costs, possible_jumps):\n",
    "    dp = [-float(\"inf\")] * len(costs)\n",
    "    dp[0] = costs[0]\n",
    "    for i in range(1, len(costs)):\n",
    "        for j in possible_jumps:\n",
    "            if i - j >= 0:\n",
    "                dp[i] = max(dp[i - j], dp[i] - costs[i]) + costs[i]\n",
    "\n",
    "    return dp[-1]\n"
   ]
  },
  {
   "cell_type": "markdown",
   "id": "180283a0",
   "metadata": {
    "slideshow": {
     "slide_type": "slide"
    }
   },
   "source": [
    "#### Черепашка со штрафами"
   ]
  },
  {
   "cell_type": "code",
   "execution_count": null,
   "id": "94603b51",
   "metadata": {
    "slideshow": {
     "slide_type": "subslide"
    }
   },
   "outputs": [],
   "source": [
    "def turtle_poison(field):\n",
    "    n = len(field)\n",
    "    m = len(field[0])\n",
    "\n",
    "    dp = [[float(\"inf\")] * (m + 1) for i in range(n + 1)]\n",
    "\n",
    "    dp[1][1] = field[0][0]\n",
    "\n",
    "    for i in range(n):\n",
    "        for j in range(m):\n",
    "            if dp[i + 1][j + 1] == float(\"inf\"):\n",
    "                dp[i + 1][j + 1] = min(dp[i][j + 1],\n",
    "                                       dp[i + 1][j]) + field[i][j]\n",
    "\n",
    "    return dp[n][m]\n"
   ]
  },
  {
   "cell_type": "markdown",
   "id": "788a8ce2",
   "metadata": {
    "slideshow": {
     "slide_type": "slide"
    }
   },
   "source": [
    "#### Черепашка с заработком"
   ]
  },
  {
   "cell_type": "code",
   "execution_count": null,
   "id": "80e42ead",
   "metadata": {
    "slideshow": {
     "slide_type": "subslide"
    }
   },
   "outputs": [],
   "source": [
    "def turtle_earn(field):\n",
    "    n = len(field)\n",
    "    m = len(field[0])\n",
    "\n",
    "    dp = [[-float(\"inf\")] * (m + 1) for i in range(n + 1)]\n",
    "\n",
    "    dp[1][1] = field[0][0]\n",
    "\n",
    "    for i in range(n):\n",
    "        for j in range(m):\n",
    "            if dp[i + 1][j + 1] == -float(\"inf\"):\n",
    "                dp[i + 1][j + 1] = max(dp[i][j + 1],\n",
    "                                       dp[i + 1][j]) + field[i][j]\n",
    "\n",
    "    return dp[n][m]\n"
   ]
  }
 ],
 "metadata": {
  "celltoolbar": "Slideshow",
  "kernelspec": {
   "display_name": "Python 3 (ipykernel)",
   "language": "python",
   "name": "python3"
  },
  "language_info": {
   "codemirror_mode": {
    "name": "ipython",
    "version": 3
   },
   "file_extension": ".py",
   "mimetype": "text/x-python",
   "name": "python",
   "nbconvert_exporter": "python",
   "pygments_lexer": "ipython3",
   "version": "3.10.4"
  },
  "rise": {
   "scroll": true
  }
 },
 "nbformat": 4,
 "nbformat_minor": 5
}
