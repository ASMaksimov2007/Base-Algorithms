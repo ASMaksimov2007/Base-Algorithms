{
 "cells": [
  {
   "cell_type": "markdown",
   "id": "dec6288b",
   "metadata": {
    "slideshow": {
     "slide_type": "slide"
    }
   },
   "source": [
    "# Формулы. Олимпиадное программирование"
   ]
  },
  {
   "cell_type": "markdown",
   "id": "2c6d7eac",
   "metadata": {
    "slideshow": {
     "slide_type": "slide"
    }
   },
   "source": [
    "## Формула Герона\n",
    "\n",
    "$$\n",
    "\\begin{equation*}\n",
    "    S = \\sqrt{p(p - a)(p - b)(p - c)}\n",
    "\\end{equation*}\n",
    "$$\n",
    "\n",
    "## Some long text\n",
    "\n",
    "Long text \n",
    "\n",
    "\n",
    "bad text somewhere\n",
    "\n",
    "\n",
    "v\n",
    "\n",
    "v\n",
    "\n",
    "v\n",
    "\n",
    "v\n",
    "\n",
    "v\n",
    "\n",
    "v\n",
    "\n",
    "v\n",
    "\n",
    "v\n",
    "\n",
    "v\n",
    "\n",
    "v\n",
    "\n",
    "v\n",
    "\n",
    "v\n",
    "\n",
    "v\n",
    "\n"
   ]
  },
  {
   "cell_type": "code",
   "execution_count": null,
   "id": "f4ac513c",
   "metadata": {
    "scrolled": true,
    "slideshow": {
     "slide_type": "slide"
    }
   },
   "outputs": [],
   "source": []
  },
  {
   "cell_type": "markdown",
   "id": "63c7e452",
   "metadata": {
    "slideshow": {
     "slide_type": "slide"
    }
   },
   "source": [
    "##### Следующий слайд"
   ]
  },
  {
   "cell_type": "code",
   "execution_count": 6,
   "id": "d0aa0783",
   "metadata": {
    "scrolled": true,
    "slideshow": {
     "slide_type": "fragment"
    }
   },
   "outputs": [
    {
     "name": "stdout",
     "output_type": "stream",
     "text": [
      "EZ\n"
     ]
    }
   ],
   "source": [
    "print(\"EZ\")"
   ]
  },
  {
   "cell_type": "code",
   "execution_count": 3,
   "id": "9fafdf5d",
   "metadata": {
    "scrolled": true,
    "slideshow": {
     "slide_type": "subslide"
    }
   },
   "outputs": [],
   "source": [
    "a = 1"
   ]
  },
  {
   "cell_type": "code",
   "execution_count": 4,
   "id": "6dc1c80b",
   "metadata": {
    "scrolled": true,
    "slideshow": {
     "slide_type": "subslide"
    }
   },
   "outputs": [],
   "source": [
    "b = 2"
   ]
  },
  {
   "cell_type": "code",
   "execution_count": 4,
   "id": "2d1147bf",
   "metadata": {
    "scrolled": true,
    "slideshow": {
     "slide_type": "subslide"
    }
   },
   "outputs": [],
   "source": [
    "c = 3"
   ]
  },
  {
   "cell_type": "markdown",
   "id": "1e2dd084",
   "metadata": {
    "slideshow": {
     "slide_type": "slide"
    }
   },
   "source": [
    "#### Слайд\n",
    "\n",
    "> Цитата"
   ]
  }
 ],
 "metadata": {
  "celltoolbar": "Slideshow",
  "kernelspec": {
   "display_name": "Python 3 (ipykernel)",
   "language": "python",
   "name": "python3"
  },
  "language_info": {
   "codemirror_mode": {
    "name": "ipython",
    "version": 3
   },
   "file_extension": ".py",
   "mimetype": "text/x-python",
   "name": "python",
   "nbconvert_exporter": "python",
   "pygments_lexer": "ipython3",
   "version": "3.10.0"
  },
  "rise": {
   "enable_chalkboard": true,
   "scroll": true
  }
 },
 "nbformat": 4,
 "nbformat_minor": 5
}
